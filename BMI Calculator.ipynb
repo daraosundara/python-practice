{
 "cells": [
  {
   "cell_type": "markdown",
   "id": "ba842e80-54eb-4710-bcde-021ec3fd03fa",
   "metadata": {},
   "source": [
    "# BMI Calculator"
   ]
  },
  {
   "cell_type": "code",
   "execution_count": null,
   "id": "2710229d-b7e4-47e7-9474-e8882a7205d7",
   "metadata": {},
   "outputs": [],
   "source": [
    "#BMI = (weight in pounds * 703) / (height in inches * height in inches)"
   ]
  },
  {
   "cell_type": "code",
   "execution_count": null,
   "id": "2c1dbc16-3213-47ef-9e34-481ad30cf668",
   "metadata": {},
   "outputs": [],
   "source": []
  },
  {
   "cell_type": "code",
   "execution_count": 2,
   "id": "efbdbe52-4826-4298-b866-8410c1bf638e",
   "metadata": {},
   "outputs": [
    {
     "name": "stdin",
     "output_type": "stream",
     "text": [
      "Enter your name:  Steaving\n",
      "Enter your weight in pounds:  143\n",
      "Enter your height in inches:  66\n"
     ]
    },
    {
     "name": "stdout",
     "output_type": "stream",
     "text": [
      "23.078282828282827\n",
      "Steaving, you are normal weight.\n"
     ]
    }
   ],
   "source": [
    "name = input(\"Enter your name: \")\n",
    "\n",
    "weight = int(input(\"Enter your weight in pounds: \"))\n",
    "\n",
    "height = int(input(\"Enter your height in inches: \"))\n",
    "\n",
    "BMI = (weight * 703) / (height * height)\n",
    "\n",
    "print(BMI)\n",
    "\n",
    "if BMI > 0:\n",
    "    if(BMI<18.5):\n",
    "        print(name + ', you are underweight.')\n",
    "    elif (BMI<=24.9):\n",
    "        print(name +', you are normal weight.') \n",
    "    elif (BMI<29.9):\n",
    "        print(name +', you are overweight.')\n",
    "    elif (BMI<34.9):\n",
    "        print(name +', you are obese.')\n",
    "    elif (BMI<39.9):\n",
    "        print(name +', you are severely obese.')\n",
    "    else:\n",
    "        print(name +', you are morbidly obese.')\n",
    "\n"
   ]
  },
  {
   "cell_type": "code",
   "execution_count": null,
   "id": "3c5a8dec-7f12-4392-a1cf-ece962e65ad0",
   "metadata": {},
   "outputs": [],
   "source": []
  },
  {
   "cell_type": "code",
   "execution_count": null,
   "id": "0206c989-2691-4823-bbaf-a43f7d37de1e",
   "metadata": {},
   "outputs": [],
   "source": []
  },
  {
   "cell_type": "code",
   "execution_count": null,
   "id": "68ead000-479a-4791-b3e6-65250b85d346",
   "metadata": {},
   "outputs": [],
   "source": []
  },
  {
   "cell_type": "code",
   "execution_count": null,
   "id": "6aaf18e5-98c3-4e7c-864c-351239b4cabd",
   "metadata": {},
   "outputs": [],
   "source": []
  },
  {
   "cell_type": "code",
   "execution_count": null,
   "id": "5db13e5f-f5a1-4bdb-b354-bfd1e983dd4b",
   "metadata": {},
   "outputs": [],
   "source": []
  },
  {
   "cell_type": "code",
   "execution_count": null,
   "id": "2ee0779a-fbbc-4946-99c2-21d32962ed72",
   "metadata": {},
   "outputs": [],
   "source": []
  },
  {
   "cell_type": "code",
   "execution_count": null,
   "id": "eaa42491-eccc-44f3-8350-76fae1f27b3d",
   "metadata": {},
   "outputs": [],
   "source": []
  },
  {
   "cell_type": "code",
   "execution_count": null,
   "id": "7b571bcc-74d5-4cdc-b817-0a8813e7d220",
   "metadata": {},
   "outputs": [],
   "source": []
  },
  {
   "cell_type": "code",
   "execution_count": null,
   "id": "ebcc7002-d6bf-499d-89e9-52a1345680e2",
   "metadata": {},
   "outputs": [],
   "source": []
  }
 ],
 "metadata": {
  "kernelspec": {
   "display_name": "Python 3 (ipykernel)",
   "language": "python",
   "name": "python3"
  },
  "language_info": {
   "codemirror_mode": {
    "name": "ipython",
    "version": 3
   },
   "file_extension": ".py",
   "mimetype": "text/x-python",
   "name": "python",
   "nbconvert_exporter": "python",
   "pygments_lexer": "ipython3",
   "version": "3.11.7"
  }
 },
 "nbformat": 4,
 "nbformat_minor": 5
}
